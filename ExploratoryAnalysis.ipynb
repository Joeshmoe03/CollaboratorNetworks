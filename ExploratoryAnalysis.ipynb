{
 "cells": [
  {
   "cell_type": "code",
   "execution_count": 16,
   "id": "c16c5eb9-1f06-410e-a3d5-14c740159953",
   "metadata": {},
   "outputs": [],
   "source": [
    "import networkx as nx\n",
    "import igraph\n",
    "import numpy as np\n",
    "import pandas as pd\n",
    "import matplotlib.pyplot as plt\n",
    "from itertools import combinations\n",
    "\n",
    "import os\n",
    "import sys"
   ]
  },
  {
   "cell_type": "markdown",
   "id": "5e381aa8-7515-4346-a29e-f3cc9fc661a2",
   "metadata": {},
   "source": [
    "# Psioriasis Data Formatting"
   ]
  },
  {
   "cell_type": "code",
   "execution_count": 12,
   "id": "c846412b-4ee1-44c8-bfe8-864ba0dfb280",
   "metadata": {},
   "outputs": [],
   "source": [
    "base_dir = 'data'\n",
    "file_name = 'psoriasis.xlsx'\n",
    "file_path = os.path.join(base_dir, 'psoriasis', file_name)\n",
    "\n",
    "label_df = pd.read_excel(file_path, sheet_name='Labels')\n",
    "dataset_df = pd.read_excel(file_path, sheet_name='Dataset')"
   ]
  },
  {
   "cell_type": "code",
   "execution_count": 13,
   "id": "5de2094d-b1c4-412a-bcf7-62a4f5bb6335",
   "metadata": {},
   "outputs": [
    {
     "name": "stdout",
     "output_type": "stream",
     "text": [
      "Label Sheet:\n",
      "  PMID: PubMed Identifier for indexed documents in Pubmed used for the study. PMIDs do not change over time or during processing and are never reused.\n",
      "0           DP: Date that the article was published.                                                                                                  \n",
      "1  FAU: Author name for articles published. From ...                                                                                                  \n",
      "2  FAU-Revised: Author name after cleansing proce...                                                                                                  \n",
      "\n",
      "Dataset Sheet:\n",
      "       PMID    DP             FAU        FAU-Revised\n",
      "0  18913797  1942     COMEL, M, M           COMEL, M\n",
      "1  20981993  1945     DEGOS, R, R           Degos, R\n",
      "2  21020988  1945  GOMEZ ORBANEJA  Gómez Orbaneja, J\n",
      "3  21020988  1945    GARCIA PEREZ       GARCIA PEREZ\n",
      "4  20983377  1945  NIEMEYER, A, A        NIEMEYER, A\n"
     ]
    }
   ],
   "source": [
    "print(\"Label Sheet:\")\n",
    "print(label_df.head())\n",
    "\n",
    "print(\"\\nDataset Sheet:\")\n",
    "print(dataset_df.head())"
   ]
  },
  {
   "cell_type": "code",
   "execution_count": 17,
   "id": "222cae99-e5be-47fe-85d7-b67eed5a945c",
   "metadata": {},
   "outputs": [
    {
     "name": "stdout",
     "output_type": "stream",
     "text": [
      "Author ID Map:\n",
      "         FAU-Revised  author_id\n",
      "0           COMEL, M       6148\n",
      "1           Degos, R       9786\n",
      "2  Gómez Orbaneja, J      16218\n",
      "3       GARCIA PEREZ      13723\n",
      "4        NIEMEYER, A      30123\n",
      "\n",
      "Edge List:\n",
      "   source  target\n",
      "0   16252   44038\n",
      "1    6327   36473\n",
      "2   25709   45496\n",
      "3    7197   46909\n",
      "4    4388   14647\n"
     ]
    }
   ],
   "source": [
    "dataset_df['author_id'] = dataset_df['FAU-Revised'].astype('category').cat.codes\n",
    "author_id_map = dataset_df[['FAU-Revised', 'author_id']].drop_duplicates().reset_index(drop=True)\n",
    "\n",
    "# Group by PMID and get list of author IDs for each paper\n",
    "pmid_author_groups = dataset_df.groupby('PMID')['author_id'].apply(list)\n",
    "\n",
    "# Create edge list by finding all combinations of authors per paper\n",
    "edges = set()\n",
    "for author_list in pmid_author_groups:\n",
    "    if len(author_list) > 1:\n",
    "        for pair in combinations(sorted(set(author_list)), 2):\n",
    "            edges.add(pair)\n",
    "\n",
    "# Convert to DataFrame\n",
    "edge_df = pd.DataFrame(list(edges), columns=['source', 'target'])\n",
    "\n",
    "# Show results\n",
    "print(\"Author ID Map:\")\n",
    "print(author_id_map.head())\n",
    "\n",
    "print(\"\\nEdge List:\")\n",
    "print(edge_df.head())"
   ]
  },
  {
   "cell_type": "code",
   "execution_count": 19,
   "id": "fbbfbfae-a008-4bd2-b1d8-ef0969fffdb0",
   "metadata": {},
   "outputs": [
    {
     "name": "stdout",
     "output_type": "stream",
     "text": [
      "Number of edges in the graph: 211540\n"
     ]
    }
   ],
   "source": [
    "print(f\"Number of edges in the graph: {len(edge_df)}\")"
   ]
  },
  {
   "cell_type": "code",
   "execution_count": 20,
   "id": "8db4e189-efe8-4ad8-9e84-b365dd52ccb6",
   "metadata": {},
   "outputs": [],
   "source": [
    "G = nx.Graph()\n",
    "\n",
    "# Add nodes with author name as an attribute\n",
    "for _, row in author_id_map.iterrows():\n",
    "    G.add_node(row['author_id'], name=row['FAU-Revised'])\n",
    "G.add_edges_from(edges)"
   ]
  },
  {
   "cell_type": "code",
   "execution_count": 22,
   "id": "1d1c635f-a3c1-410d-b8a3-57c981288977",
   "metadata": {},
   "outputs": [
    {
     "name": "stdout",
     "output_type": "stream",
     "text": [
      "Maximum degree: 655\n",
      "Author with maximum degree:\n",
      "- Griffiths, Christopher E M\n"
     ]
    }
   ],
   "source": [
    "degrees = dict(G.degree())\n",
    "max_degree = max(degrees.values())\n",
    "top_authors = [node for node, deg in degrees.items() if deg == max_degree]\n",
    "\n",
    "# Get their names\n",
    "top_author_names = [G.nodes[node]['name'] for node in top_authors]\n",
    "\n",
    "print(f\"Maximum degree: {max_degree}\")\n",
    "print(\"Author with maximum degree:\")\n",
    "for name in top_author_names:\n",
    "    print(\"-\", name)"
   ]
  },
  {
   "cell_type": "code",
   "execution_count": null,
   "id": "8190acc3-0719-4d5f-a19a-25b33eff6312",
   "metadata": {},
   "outputs": [],
   "source": []
  }
 ],
 "metadata": {
  "kernelspec": {
   "display_name": "Python 3 (ipykernel)",
   "language": "python",
   "name": "python3"
  },
  "language_info": {
   "codemirror_mode": {
    "name": "ipython",
    "version": 3
   },
   "file_extension": ".py",
   "mimetype": "text/x-python",
   "name": "python",
   "nbconvert_exporter": "python",
   "pygments_lexer": "ipython3",
   "version": "3.13.2"
  }
 },
 "nbformat": 4,
 "nbformat_minor": 5
}
